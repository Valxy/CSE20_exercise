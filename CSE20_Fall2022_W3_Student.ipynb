{
  "nbformat": 4,
  "nbformat_minor": 0,
  "metadata": {
    "colab": {
      "provenance": []
    },
    "kernelspec": {
      "name": "python3",
      "display_name": "Python 3"
    },
    "language_info": {
      "name": "python"
    }
  },
  "cells": [
    {
      "cell_type": "code",
      "source": [
        "# Calculate the factorial of n (n > 0)\n",
        "n = 8\n",
        "f = 1\n",
        "# ===== YOUR CODE STARTS HERE =====\n",
        "\n",
        "\n",
        "# ===== YOUR CODE ENDS HERE =====\n",
        "assert f == 40320, f\"f = {f}\""
      ],
      "metadata": {
        "id": "1fC96A2mDzPZ"
      },
      "execution_count": null,
      "outputs": []
    },
    {
      "cell_type": "code",
      "execution_count": null,
      "metadata": {
        "id": "Gled-dZi8Q9J"
      },
      "outputs": [],
      "source": [
        "# Compute the value of a function f given parameters n and k\n",
        "# f(n, k) = 1^k + 2^k + ... + n^k\n",
        "n = 5\n",
        "k = 3\n",
        "s = 0\n",
        "# ===== YOUR CODE STARTS HERE =====\n",
        "\n",
        "\n",
        "# ===== YOUR CODE ENDS HERE =====\n",
        "assert s == 225, f\"s = {s}\""
      ]
    },
    {
      "cell_type": "code",
      "source": [
        "# Print (at most) n numbers each line\n",
        "a = [i for i in range(50)]\n",
        "n = 5\n",
        "# ===== YOUR CODE STARTS HERE =====\n",
        "\n",
        "\n",
        "# ===== YOUR CODE ENDS HERE ====="
      ],
      "metadata": {
        "id": "YbJXnvPZGLUj"
      },
      "execution_count": null,
      "outputs": []
    },
    {
      "cell_type": "code",
      "source": [
        "from random import randint, seed"
      ],
      "metadata": {
        "id": "SVixV44IBcfb"
      },
      "execution_count": null,
      "outputs": []
    },
    {
      "cell_type": "code",
      "source": [
        "# Write a function that takes as input a list of integers\n",
        "# and return a new list of elements whose value and index\n",
        "# add to an odd number (assume index starts with 0)\n",
        "seed(42)\n",
        "a = [randint(0, 20) for _ in range(10)]\n",
        "b = [randint(0, 20) for _ in range(10)]\n",
        "print(\"a:\", a)\n",
        "print(\"b:\", b)\n",
        "\n",
        "\n",
        "def filter_odd(l):\n",
        "\n",
        "\n",
        "\n",
        "\n",
        "assert filter_odd(a) == [8, 7, 17, 2], filter_odd(a)\n",
        "assert filter_odd(b) == [1, 0, 6, 7, 16, 19, 0], filter_odd(b)"
      ],
      "metadata": {
        "id": "V4M1A7b-FgGh"
      },
      "execution_count": null,
      "outputs": []
    },
    {
      "cell_type": "code",
      "source": [
        "# Write a function take takes as input a list of integers\n",
        "# and return a new list of elements which are divisible by 2\n",
        "# but not by 4\n",
        "seed(42)\n",
        "a = [randint(0, 1000) for _ in range(10)]\n",
        "b = [randint(0, 1000) for _ in range(10)]\n",
        "print(\"a:\", a)\n",
        "print(\"b:\", b)\n",
        "\n",
        "\n",
        "def check_divisible(l):\n",
        "\n",
        "\n",
        "\n",
        "assert check_divisible(a) == [654, 114, 250, 142, 754], check_divisible(a)\n",
        "assert check_divisible(b) == [758, 558, 30], check_divisible(b)"
      ],
      "metadata": {
        "id": "TR7KqGbgGKZy"
      },
      "execution_count": null,
      "outputs": []
    }
  ]
}